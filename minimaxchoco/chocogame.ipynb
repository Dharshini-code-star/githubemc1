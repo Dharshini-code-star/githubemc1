{
 "cells": [
  {
   "cell_type": "code",
   "execution_count": null,
   "id": "d1e5d429-5542-4167-9748-9820f27ef3b2",
   "metadata": {
    "scrolled": true
   },
   "outputs": [
    {
     "name": "stdout",
     "output_type": "stream",
     "text": [
      " Chocolate Poison Game - Avoid picking the last chocolate!\n"
     ]
    },
    {
     "name": "stdout",
     "output_type": "stream",
     "text": [
      "Your turn! Pick 1, 2, or 3 chocolates:  2\n"
     ]
    },
    {
     "name": "stdout",
     "output_type": "stream",
     "text": [
      "You picked 2. Remaining chocolates: 21\n",
      "🤖 AI picks 1.\n",
      "Remaining chocolates: 20\n"
     ]
    },
    {
     "name": "stdout",
     "output_type": "stream",
     "text": [
      "Your turn! Pick 1, 2, or 3 chocolates:  3\n"
     ]
    },
    {
     "name": "stdout",
     "output_type": "stream",
     "text": [
      "You picked 3. Remaining chocolates: 17\n",
      "🤖 AI picks 1.\n",
      "Remaining chocolates: 16\n"
     ]
    },
    {
     "name": "stdout",
     "output_type": "stream",
     "text": [
      "Your turn! Pick 1, 2, or 3 chocolates:  2\n"
     ]
    },
    {
     "name": "stdout",
     "output_type": "stream",
     "text": [
      "You picked 2. Remaining chocolates: 14\n",
      "🤖 AI picks 1.\n",
      "Remaining chocolates: 13\n"
     ]
    },
    {
     "name": "stdout",
     "output_type": "stream",
     "text": [
      "Your turn! Pick 1, 2, or 3 chocolates:  1\n"
     ]
    },
    {
     "name": "stdout",
     "output_type": "stream",
     "text": [
      "You picked 1. Remaining chocolates: 12\n",
      "🤖 AI picks 3.\n",
      "Remaining chocolates: 9\n"
     ]
    },
    {
     "name": "stdout",
     "output_type": "stream",
     "text": [
      "Your turn! Pick 1, 2, or 3 chocolates:  1\n"
     ]
    },
    {
     "name": "stdout",
     "output_type": "stream",
     "text": [
      "You picked 1. Remaining chocolates: 8\n",
      "🤖 AI picks 3.\n",
      "Remaining chocolates: 5\n"
     ]
    },
    {
     "name": "stdout",
     "output_type": "stream",
     "text": [
      "Your turn! Pick 1, 2, or 3 chocolates:  2\n"
     ]
    },
    {
     "name": "stdout",
     "output_type": "stream",
     "text": [
      "You picked 2. Remaining chocolates: 3\n",
      "🤖 AI picks 2.\n",
      "Remaining chocolates: 1\n",
      " AI left 1 chocolate. You are forced to pick it. YOU LOSE.\n"
     ]
    }
   ],
   "source": [
    "def minimax(choco, is_max):\n",
    "    if choco == 1:\n",
    "        return -1 if is_max else 1\n",
    "    scores = [minimax(choco - i, not is_max) for i in [1, 2, 3] if choco - i > 0]\n",
    "    return max(scores) if is_max else min(scores)\n",
    "\n",
    "def best_move(choco):\n",
    "    for i in [1, 2, 3]:\n",
    "        if choco - i > 0 and minimax(choco - i, False) == 1:\n",
    "            return i\n",
    "    return 1\n",
    "\n",
    "#  Game Start\n",
    "choco = 99\n",
    "print(\" Chocolate Poison Game - Avoid picking the last chocolate!\")\n",
    "\n",
    "while choco > 1:\n",
    "    move = int(input(\"Your turn! Pick 1, 2, or 3 chocolates: \"))\n",
    "    if move not in [1, 2, 3] or move >= choco:\n",
    "        print(\"Invalid move. Try again.\")\n",
    "        continue\n",
    "    choco -= move\n",
    "    print(f\"You picked {move}. Remaining chocolates: {choco}\")\n",
    "    \n",
    "    if choco == 1:\n",
    "        print(\"You left 1 chocolate. AI has to pick it. YOU WIN 🎉\")\n",
    "        break\n",
    "\n",
    "    ai = best_move(choco)\n",
    "    print(f\"🤖 AI picks {ai}.\")\n",
    "    choco -= ai\n",
    "    print(f\"Remaining chocolates: {choco}\")\n",
    "\n",
    "    if choco == 1:\n",
    "        print(\"AI left 1 chocolate. You are forced to pick it. YOU LOSE.\")\n",
    "        break\n",
    "\n",
    "   "
   ]
  }
 ],
 "metadata": {
  "kernelspec": {
   "display_name": "Python [conda env:base] *",
   "language": "python",
   "name": "conda-base-py"
  },
  "language_info": {
   "codemirror_mode": {
    "name": "ipython",
    "version": 3
   },
   "file_extension": ".py",
   "mimetype": "text/x-python",
   "name": "python",
   "nbconvert_exporter": "python",
   "pygments_lexer": "ipython3",
   "version": "3.13.5"
  }
 },
 "nbformat": 4,
 "nbformat_minor": 5
}
